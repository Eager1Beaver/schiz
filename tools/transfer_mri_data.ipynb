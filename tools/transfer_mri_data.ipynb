{
 "cells": [
  {
   "cell_type": "code",
   "execution_count": 3,
   "metadata": {},
   "outputs": [],
   "source": [
    "import os\n",
    "import shutil"
   ]
  },
  {
   "cell_type": "code",
   "execution_count": null,
   "metadata": {},
   "outputs": [],
   "source": [
    "# Define the source and destination directories\n",
    "cwd = os.getcwd()\n",
    "source_dir = cwd + '/data' #\n",
    "\n",
    "#destination_dir = \"/mnt/d/temp_data\" # Explicit Windows path for HDD\n",
    "destination_dir = \"/mnt/e/1DATA\" # Explicit Windows path for HDD\n",
    "\n",
    "count = 0\n",
    "# Recursive folder copy function\n",
    "def copy_folder_contents(src, dst):\n",
    "    os.makedirs(dst, exist_ok=True)\n",
    "    for item in os.listdir(src):\n",
    "        src_item = os.path.join(src, item)\n",
    "        dst_item = os.path.join(dst, item)\n",
    "        if os.path.isdir(src_item):\n",
    "            copy_folder_contents(src_item, dst_item)\n",
    "        else:\n",
    "            shutil.copy2(src_item, dst_item)\n",
    "\n",
    "# Loop through the folders\n",
    "for root_dir in [\"schizconnect_COBRE_images_22613/COBRE\", \"schizconnect_MCICShare_images_22613/MCICShare\"]:\n",
    "    root_path = os.path.join(source_dir, root_dir)\n",
    "    #print(f\"Processing root directory: {root_path}\")\n",
    "\n",
    "    if not os.path.exists(root_path):\n",
    "        print(f\"Root path does not exist: {root_path}\")\n",
    "        continue\n",
    "\n",
    "    for subject in os.listdir(root_path):\n",
    "        subject_path = os.path.join(root_path, subject)\n",
    "\n",
    "        if os.path.isdir(subject_path):\n",
    "            for ses in os.listdir(subject_path):\n",
    "                ses_path = os.path.join(subject_path, ses)\n",
    "\n",
    "                if os.path.isdir(ses_path):\n",
    "                    anat_path = os.path.join(ses_path, \"anat\")\n",
    "\n",
    "                    if os.path.exists(anat_path):\n",
    "                        dest_path = os.path.join(destination_dir, root_dir, subject, ses, \"anat\")\n",
    "                        print(f\"Copying from: {anat_path}\")\n",
    "                        print(f\"Copying to: {dest_path}\")\n",
    "                        copy_folder_contents(anat_path, dest_path)\n",
    "                        #count += 1\n",
    "                        #if count == 3:\n",
    "                        #    break\n",
    "                    #break\n",
    "            #break\n",
    "    #break    \n",
    "\n",
    "print(\"Copy operation completed!\")\n",
    "\n",
    "### takes 8.5 minutes to copy 20 GB of data from WSL do Windows HDD (external)"
   ]
  }
 ],
 "metadata": {
  "kernelspec": {
   "display_name": "schiz",
   "language": "python",
   "name": "python3"
  },
  "language_info": {
   "codemirror_mode": {
    "name": "ipython",
    "version": 3
   },
   "file_extension": ".py",
   "mimetype": "text/x-python",
   "name": "python",
   "nbconvert_exporter": "python",
   "pygments_lexer": "ipython3",
   "version": "3.12.7"
  }
 },
 "nbformat": 4,
 "nbformat_minor": 2
}
