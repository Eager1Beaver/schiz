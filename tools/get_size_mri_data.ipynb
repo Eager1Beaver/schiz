{
 "cells": [
  {
   "cell_type": "code",
   "execution_count": 1,
   "metadata": {},
   "outputs": [],
   "source": [
    "import os"
   ]
  },
  {
   "cell_type": "code",
   "execution_count": 2,
   "metadata": {},
   "outputs": [],
   "source": [
    "def getSize(filename):\n",
    "    st = os.stat(filename)\n",
    "    return st.st_size"
   ]
  },
  {
   "cell_type": "code",
   "execution_count": null,
   "metadata": {},
   "outputs": [
    {
     "name": "stdout",
     "output_type": "stream",
     "text": [
      "total_size (MB) = 19429.138326644897\n"
     ]
    }
   ],
   "source": [
    "# iterate over \"anat\" folder for every subject in \"data\" folder for COBRE dataset and get size of each file with extension \".nii.gz\", get a sum of all sizes\n",
    "total_size = 0\n",
    "\n",
    "for root, dirs, files in os.walk(\"data\"):\n",
    "    # check if the folder is \"anat\" folder\n",
    "    if \"anat\" not in root:\n",
    "        continue\n",
    "    for file in files:\n",
    "        if file.endswith(\".nii.gz\"):\n",
    "            try:\n",
    "                total_size += getSize(os.path.join(root, file))\n",
    "            except OSError as e:\n",
    "                print(f\"Error accessing file {file}: {e}\")\n",
    "\n",
    "print(f'total_size (MB) = {total_size/1024/1024}')            \n"
   ]
  }
 ],
 "metadata": {
  "kernelspec": {
   "display_name": "schiz",
   "language": "python",
   "name": "python3"
  },
  "language_info": {
   "codemirror_mode": {
    "name": "ipython",
    "version": 3
   },
   "file_extension": ".py",
   "mimetype": "text/x-python",
   "name": "python",
   "nbconvert_exporter": "python",
   "pygments_lexer": "ipython3",
   "version": "3.12.7"
  }
 },
 "nbformat": 4,
 "nbformat_minor": 2
}
